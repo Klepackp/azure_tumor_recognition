{
  "cells": [
    {
      "cell_type": "code",
      "source": [
        "from datetime import datetime\r\n",
        "from azure.ai.ml.entities import Data\r\n",
        "\r\n",
        "from azure.ai.ml import automl, Input\r\n",
        "from azure.ai.ml.constants import AssetTypes\r\n",
        "from azure.ai.ml import MLClient\r\n",
        "from azure.ai.ml.entities import ComputeInstance, AmlCompute\r\n",
        "from azure.identity import DefaultAzureCredential\r\n",
        "import os\r\n",
        "#my_training_data_input = Input(type=AssetTypes.MLTABLE, path=\"azureml://datastores/workspaceblobstore/paths/vision-classification/train\")\r\n",
        "from azure.ai.ml import MLClient\r\n",
        "from azure.identity import DefaultAzureCredential\r\n",
        "\r\n",
        "credential = DefaultAzureCredential()\r\n",
        "ml_client = None\r\n",
        "try:\r\n",
        "    ml_client = MLClient.from_config(credential)\r\n",
        "except Exception as ex:\r\n",
        "    print(ex)\r\n",
        "    # Enter details of your AML workspace\r\n",
        "    subscription_id = \"fcd507c3-2157-4d7e-8f34-7f992556b828\"\r\n",
        "    resource_group = \"tumor_detection_project\"\r\n",
        "    workspace = \"tumor_detection\"\r\n",
        "    ml_client = MLClient(credential, subscription_id, resource_group, workspace)\r\n",
        "\r\n",
        "os.makedirs(\"data\", exist_ok=True)\r\n",
        "\r\n",
        "#my_data = Data(\r\n",
        "#    path=\"./data/brainMRI\",\r\n",
        "#    type=AssetTypes.URI_FOLDER,\r\n",
        "#    description=\"Brain MRI images for binary clasiffication\",\r\n",
        "#    name=\"brain-mri-images\",\r\n",
        "#)\r\n",
        "\r\n",
        "#uri_folder_data_asset = ml_client.data.create_or_update(my_data)\r\n",
        "\r\n",
        "#print(uri_folder_data_asset)\r\n",
        "#print(\"\")\r\n",
        "#print(\"Path to folder in Blob Storage:\")\r\n",
        "#print(uri_folder_data_asset.path)"
      ],
      "outputs": [
        {
          "output_type": "stream",
          "name": "stderr",
          "text": "Found the config file in: /config.json\n"
        }
      ],
      "execution_count": 3,
      "metadata": {
        "gather": {
          "logged": 1669483839995
        }
      }
    },
    {
      "cell_type": "code",
      "source": [
        "import json\r\n",
        "import os\r\n",
        "\r\n",
        "src_images = \"./data/brainMRI\"\r\n",
        "\r\n",
        "# We'll copy each JSONL file within its related MLTable folder\r\n",
        "training_mltable_path = \"./data/training-mltable-folder/\"\r\n",
        "validation_mltable_path = \"./data/validation-mltable-folder/\"\r\n",
        "\r\n",
        "train_validation_ratio = 5\r\n",
        "\r\n",
        "# Path to the training and validation files\r\n",
        "train_annotations_file = os.path.join(training_mltable_path, \"train_annotations.jsonl\")\r\n",
        "validation_annotations_file = os.path.join(\r\n",
        "    validation_mltable_path, \"validation_annotations.jsonl\"\r\n",
        ")\r\n",
        "\r\n",
        "# Baseline of json line dictionary\r\n",
        "json_line_sample = {\r\n",
        "    \"image_url\": uri_folder_data_asset.path,\r\n",
        "    \"label\": \"\",\r\n",
        "}\r\n",
        "\r\n",
        "index = 0\r\n",
        "# Scan each sub directary and generate a jsonl line per image, distributed on train and valid JSONL files\r\n",
        "with open(train_annotations_file, \"w\") as train_f:\r\n",
        "    with open(validation_annotations_file, \"w\") as validation_f:\r\n",
        "        for className in os.listdir(src_images):\r\n",
        "            subDir = src_images + '/' + className\r\n",
        "            print(subDir)\r\n",
        "            if not os.path.isdir(subDir):\r\n",
        "                continue\r\n",
        "            # Scan each sub directary\r\n",
        "            print(\"Parsing \" + subDir)\r\n",
        "            for image in os.listdir(subDir):\r\n",
        "                json_line = dict(json_line_sample)\r\n",
        "                json_line[\"image_url\"] += f\"{className}/{image}\"\r\n",
        "                json_line[\"label\"] = className\r\n",
        "                if index % train_validation_ratio == 0:\r\n",
        "                    # validation annotation\r\n",
        "                    validation_f.write(json.dumps(json_line) + \"\\n\")\r\n",
        "                else:\r\n",
        "                    # train annotation\r\n",
        "                    train_f.write(json.dumps(json_line) + \"\\n\")\r\n",
        "                index += 1                "
      ],
      "outputs": [
        {
          "output_type": "error",
          "ename": "NameError",
          "evalue": "name 'uri_folder_data_asset' is not defined",
          "traceback": [
            "\u001b[0;31m---------------------------------------------------------------------------\u001b[0m",
            "\u001b[0;31mNameError\u001b[0m                                 Traceback (most recent call last)",
            "Input \u001b[0;32mIn [5]\u001b[0m, in \u001b[0;36m<cell line: 20>\u001b[0;34m()\u001b[0m\n\u001b[1;32m     14\u001b[0m validation_annotations_file \u001b[38;5;241m=\u001b[39m os\u001b[38;5;241m.\u001b[39mpath\u001b[38;5;241m.\u001b[39mjoin(\n\u001b[1;32m     15\u001b[0m     validation_mltable_path, \u001b[38;5;124m\"\u001b[39m\u001b[38;5;124mvalidation_annotations.jsonl\u001b[39m\u001b[38;5;124m\"\u001b[39m\n\u001b[1;32m     16\u001b[0m )\n\u001b[1;32m     18\u001b[0m \u001b[38;5;66;03m# Baseline of json line dictionary\u001b[39;00m\n\u001b[1;32m     19\u001b[0m json_line_sample \u001b[38;5;241m=\u001b[39m {\n\u001b[0;32m---> 20\u001b[0m     \u001b[38;5;124m\"\u001b[39m\u001b[38;5;124mimage_url\u001b[39m\u001b[38;5;124m\"\u001b[39m: \u001b[43muri_folder_data_asset\u001b[49m\u001b[38;5;241m.\u001b[39mpath,\n\u001b[1;32m     21\u001b[0m     \u001b[38;5;124m\"\u001b[39m\u001b[38;5;124mlabel\u001b[39m\u001b[38;5;124m\"\u001b[39m: \u001b[38;5;124m\"\u001b[39m\u001b[38;5;124m\"\u001b[39m,\n\u001b[1;32m     22\u001b[0m }\n\u001b[1;32m     24\u001b[0m index \u001b[38;5;241m=\u001b[39m \u001b[38;5;241m0\u001b[39m\n\u001b[1;32m     25\u001b[0m \u001b[38;5;66;03m# Scan each sub directary and generate a jsonl line per image, distributed on train and valid JSONL files\u001b[39;00m\n",
            "\u001b[0;31mNameError\u001b[0m: name 'uri_folder_data_asset' is not defined"
          ]
        }
      ],
      "execution_count": 5,
      "metadata": {
        "jupyter": {
          "source_hidden": false,
          "outputs_hidden": false
        },
        "nteract": {
          "transient": {
            "deleting": false
          }
        },
        "gather": {
          "logged": 1669403108023
        }
      }
    },
    {
      "cell_type": "code",
      "source": [
        "from azure.ai.ml.automl import SearchSpace, ClassificationPrimaryMetrics\r\n",
        "from azure.ai.ml.sweep import (\r\n",
        "    Choice,\r\n",
        "    Choice,\r\n",
        "    Uniform,\r\n",
        "    BanditPolicy,\r\n",
        ")\r\n",
        "# Training MLTable defined locally, with local data to be uploaded\r\n",
        "my_training_data_input = Input(type=AssetTypes.MLTABLE, path=\"./data/training-mltable-folder/\")\r\n",
        "\r\n",
        "# Validation MLTable defined locally, with local data to be uploaded\r\n",
        "my_validation_data_input = Input(type=AssetTypes.MLTABLE, path= \"./data/validation-mltable-folder/\")\r\n",
        "\r\n"
      ],
      "outputs": [],
      "execution_count": 26,
      "metadata": {
        "jupyter": {
          "source_hidden": false,
          "outputs_hidden": false
        },
        "nteract": {
          "transient": {
            "deleting": false
          }
        },
        "gather": {
          "logged": 1669405733009
        }
      }
    },
    {
      "cell_type": "code",
      "source": [
        "compute_name = \"tumorCompute\"\r\n",
        "exp_name = \"brain-tumor-image-classification-experiment\"\r\n",
        "\r\n",
        "image_classification_job = automl.image_classification(\r\n",
        "    compute=compute_name,\r\n",
        "    experiment_name=exp_name,\r\n",
        "    training_data=my_training_data_input,\r\n",
        "    validation_data=my_validation_data_input,\r\n",
        "    target_column_name=\"label\",\r\n",
        "    primary_metric=ClassificationPrimaryMetrics.ACCURACY\r\n",
        "\r\n",
        ")\r\n"
      ],
      "outputs": [],
      "execution_count": 35,
      "metadata": {
        "jupyter": {
          "source_hidden": false,
          "outputs_hidden": false
        },
        "nteract": {
          "transient": {
            "deleting": false
          }
        },
        "gather": {
          "logged": 1669405941919
        }
      }
    },
    {
      "cell_type": "code",
      "source": [
        "\r\n",
        "image_classification_job.set_limits(\r\n",
        "    timeout_minutes=60,\r\n",
        "    max_trials=10,\r\n",
        "    max_concurrent_trials=1,\r\n",
        ")\r\n",
        "\r\n",
        "image_classification_job.extend_search_space(\r\n",
        "    [\r\n",
        "        SearchSpace(\r\n",
        "            model_name=Choice([\"vitb16r224\", \"vits16r224\"]),\r\n",
        "            learning_rate=Uniform(0.001, 0.01),\r\n",
        "            number_of_epochs=Choice([15, 30]),\r\n",
        "        ),\r\n",
        "        SearchSpace(\r\n",
        "            model_name=Choice([\"seresnext\", \"resnet50\"]),\r\n",
        "            learning_rate=Uniform(0.001, 0.01),\r\n",
        "            layers_to_freeze=Choice([0, 2]),\r\n",
        "        ),\r\n",
        "    ]\r\n",
        ")\r\n",
        "\r\n",
        "image_classification_job.set_sweep(\r\n",
        "    sampling_algorithm=\"Random\",\r\n",
        "    early_termination=BanditPolicy(\r\n",
        "        evaluation_interval=2, slack_factor=0.2, delay_evaluation=6\r\n",
        "    ),\r\n",
        ")"
      ],
      "outputs": [],
      "execution_count": 36,
      "metadata": {
        "jupyter": {
          "source_hidden": false,
          "outputs_hidden": false
        },
        "nteract": {
          "transient": {
            "deleting": false
          }
        },
        "gather": {
          "logged": 1669405943811
        }
      }
    },
    {
      "cell_type": "code",
      "source": [
        "# Submit the AutoML job\r\n",
        "returned_job = ml_client.jobs.create_or_update(image_classification_job)\r\n",
        "\r\n",
        "print(f\"Created job: {returned_job}\")\r\n",
        "ml_client.jobs.stream(returned_job.name)"
      ],
      "outputs": [
        {
          "output_type": "stream",
          "name": "stdout",
          "text": "Created job: ImageClassificationJob({'log_verbosity': <LogVerbosity.INFO: 'Info'>, 'target_column_name': 'label', 'validation_data_size': None, 'task_type': <TaskType.IMAGE_CLASSIFICATION: 'ImageClassification'>, 'training_data': {'type': 'mltable', 'path': 'azureml://datastores/workspaceblobstore/paths/LocalUpload/700b895a4121087ed9e870f75722e14c/training-mltable-folder'}, 'validation_data': {'type': 'mltable', 'path': 'azureml://datastores/workspaceblobstore/paths/LocalUpload/4b1a6e2ea4de23bef447a5ff8d477d5b/validation-mltable-folder'}, 'test_data': None, 'environment_id': None, 'environment_variables': None, 'outputs': {}, 'type': 'automl', 'status': 'NotStarted', 'log_files': None, 'name': 'amiable_roti_d7c3tqkmr3', 'description': None, 'tags': {}, 'properties': {}, 'id': '/subscriptions/fcd507c3-2157-4d7e-8f34-7f992556b828/resourceGroups/tumor_detection_project/providers/Microsoft.MachineLearningServices/workspaces/tumor_detection/jobs/amiable_roti_d7c3tqkmr3', 'Resource__source_path': None, 'base_path': '/mnt/batch/tasks/shared/LS_root/mounts/clusters/tumorcompute/code/Users/01159314', 'creation_context': <azure.ai.ml._restclient.v2022_10_01_preview.models._models_py3.SystemData object at 0x7fa841aaf4c0>, 'serialize': <msrest.serialization.Serializer object at 0x7fa841afb670>, 'inputs': {}, 'display_name': 'amiable_roti_d7c3tqkmr3', 'experiment_name': 'brain-tumor-image-classification-experiment', 'compute': 'tumorCompute', 'services': {'Tracking': <azure.ai.ml._restclient.v2022_10_01_preview.models._models_py3.JobService object at 0x7fa841aaf040>, 'Studio': <azure.ai.ml._restclient.v2022_10_01_preview.models._models_py3.JobService object at 0x7fa841aaf0a0>}, 'resources': <azure.ai.ml._restclient.v2022_10_01_preview.models._models_py3.JobResourceConfiguration object at 0x7fa841aaf280>, 'identity': None, 'limits': <azure.ai.ml.entities._job.automl.image.image_limit_settings.ImageLimitSettings object at 0x7fa841afb730>, 'sweep': <azure.ai.ml.entities._job.automl.image.image_sweep_settings.ImageSweepSettings object at 0x7fa841afbdf0>, 'training_parameters': None, 'search_space': [<azure.ai.ml.entities._job.automl.image.image_classification_search_space.ImageClassificationSearchSpace object at 0x7fa841afb0a0>, <azure.ai.ml.entities._job.automl.image.image_classification_search_space.ImageClassificationSearchSpace object at 0x7fa841afbc10>], 'primary_metric': <ClassificationPrimaryMetrics.ACCURACY: 'Accuracy'>})\nRunId: amiable_roti_d7c3tqkmr3\nWeb View: https://ml.azure.com/runs/amiable_roti_d7c3tqkmr3?wsid=/subscriptions/fcd507c3-2157-4d7e-8f34-7f992556b828/resourcegroups/tumor_detection_project/workspaces/tumor_detection\n"
        }
      ],
      "execution_count": 37,
      "metadata": {
        "jupyter": {
          "source_hidden": false,
          "outputs_hidden": false
        },
        "nteract": {
          "transient": {
            "deleting": false
          }
        },
        "gather": {
          "logged": 1669405898526
        }
      }
    },
    {
      "cell_type": "code",
      "source": [
        "import mlflow\r\n",
        "from mlflow.tracking.client import MlflowClient\r\n",
        "\r\n",
        "MLFLOW_TRACKING_URI = ml_client.workspaces.get(\r\n",
        "    name=ml_client.workspace_name\r\n",
        ").mlflow_tracking_uri\r\n",
        "\r\n",
        "mlflow.set_tracking_uri(MLFLOW_TRACKING_URI)\r\n",
        "\r\n",
        "mlflow_client = MlflowClient()\r\n",
        "job_name = 'amiable_roti_d7c3tqkmr3'\r\n",
        "\r\n",
        "# Example if providing an specific Job name/ID\r\n",
        "# job_name = \"salmon_camel_5sdf05xvb3\"\r\n",
        "\r\n",
        "# Get the parent run\r\n",
        "mlflow_parent_run = mlflow_client.get_run(job_name)\r\n",
        "\r\n",
        "best_child_run_id = mlflow_parent_run.data.tags[\"automl_best_child_run_id\"]\r\n",
        "print(\"Found best child run id: \", best_child_run_id)\r\n",
        "\r\n",
        "best_run = mlflow_client.get_run(best_child_run_id)\r\n",
        "\r\n",
        "print(\"Best child run: \")\r\n",
        "print(best_run)\r\n"
      ],
      "outputs": [
        {
          "output_type": "stream",
          "name": "stdout",
          "text": "Found best child run id:  amiable_roti_d7c3tqkmr3_HD_6\nBest child run: \n<Run: data=<RunData: metrics={'AUC_binary': 0.96265,\n 'AUC_macro': 0.96265,\n 'AUC_micro': 0.97,\n 'AUC_weighted': 0.96265,\n 'accuracy': 0.98,\n 'accuracy_train': 0.87685,\n 'average_precision_score_binary': 0.96356,\n 'average_precision_score_macro': 0.96766,\n 'average_precision_score_micro': 0.96498,\n 'average_precision_score_weighted': 0.96668,\n 'f1_score_binary': 0.98413,\n 'f1_score_macro': 0.97855,\n 'f1_score_micro': 0.98,\n 'f1_score_weighted': 0.97989,\n 'log_loss': 0.22704,\n 'log_loss_train': 0.29414,\n 'precision_score_binary': 0.96875,\n 'precision_score_macro': 0.98438,\n 'precision_score_micro': 0.98,\n 'precision_score_weighted': 0.98062,\n 'recall_score_binary': 1.0,\n 'recall_score_macro': 0.97368,\n 'recall_score_micro': 0.98,\n 'recall_score_weighted': 0.98}, params={}, tags={'hyperparameters': '{\"model\": {\"learning_rate\": 0.0040236584140342195, '\n                    '\"model_name\": \"vits16r224\", \"number_of_epochs\": 15}}',\n 'mlflow.parentRunId': 'amiable_roti_d7c3tqkmr3_HD',\n 'mlflow.rootRunId': 'amiable_roti_d7c3tqkmr3',\n 'mlflow.runName': 'mighty_town_0w6s176y',\n 'mlflow.source.name': 'hd_image_classification_dnn_driver.py',\n 'mlflow.source.type': 'JOB',\n 'mlflow.user': 'Klepacki Piotr (STUD)'}>, info=<RunInfo: artifact_uri='azureml://experiments/brain-tumor-image-classification-experiment/runs/amiable_roti_d7c3tqkmr3_HD_6/artifacts', end_time=1669407767523, experiment_id='aa6d873f-0e77-4057-b821-437ff867fd76', lifecycle_stage='active', run_id='amiable_roti_d7c3tqkmr3_HD_6', run_uuid='amiable_roti_d7c3tqkmr3_HD_6', start_time=1669407578418, status='FINISHED', user_id='423e6837-62cc-4f75-8195-1d7a0d21a0bc'>>\n"
        }
      ],
      "execution_count": 47,
      "metadata": {
        "jupyter": {
          "source_hidden": false,
          "outputs_hidden": false
        },
        "nteract": {
          "transient": {
            "deleting": false
          }
        },
        "gather": {
          "logged": 1669409238410
        }
      }
    },
    {
      "cell_type": "code",
      "source": [
        "from azure.ai.ml.entities import (\r\n",
        "    ManagedOnlineEndpoint,\r\n",
        "    ManagedOnlineDeployment,\r\n",
        "    Model,\r\n",
        "    Environment,\r\n",
        "    CodeConfiguration,\r\n",
        "    ProbeSettings,\r\n",
        ")\r\n",
        "\r\n",
        "model_name = \"best-brain-tumor-class\"\r\n",
        "model = Model(\r\n",
        "    path=f\"azureml://jobs/{best_run.info.run_id}/outputs/artifacts/outputs/mlflow-model/\",\r\n",
        "    name=model_name,\r\n",
        "    description=\"my sample image classification multiclass model\",\r\n",
        "    type=AssetTypes.MLFLOW_MODEL,\r\n",
        ")\r\n",
        "\r\n",
        "# for downloaded file\r\n",
        "# model = Model(\r\n",
        "#     path=\"artifact_downloads/outputs/mlflow-model/\",\r\n",
        "#     name=model_name,\r\n",
        "#     description=\"my sample image classification multiclass model\",\r\n",
        "#     type=AssetTypes.MLFLOW_MODEL,\r\n",
        "# )\r\n",
        "\r\n",
        "registered_model = ml_client.models.create_or_update(model)"
      ],
      "outputs": [
        {
          "output_type": "error",
          "ename": "NameError",
          "evalue": "name 'best_run' is not defined",
          "traceback": [
            "\u001b[0;31m---------------------------------------------------------------------------\u001b[0m",
            "\u001b[0;31mNameError\u001b[0m                                 Traceback (most recent call last)",
            "Input \u001b[0;32mIn [22]\u001b[0m, in \u001b[0;36m<cell line: 11>\u001b[0;34m()\u001b[0m\n\u001b[1;32m      1\u001b[0m \u001b[38;5;28;01mfrom\u001b[39;00m \u001b[38;5;21;01mazure\u001b[39;00m\u001b[38;5;21;01m.\u001b[39;00m\u001b[38;5;21;01mai\u001b[39;00m\u001b[38;5;21;01m.\u001b[39;00m\u001b[38;5;21;01mml\u001b[39;00m\u001b[38;5;21;01m.\u001b[39;00m\u001b[38;5;21;01mentities\u001b[39;00m \u001b[38;5;28;01mimport\u001b[39;00m (\n\u001b[1;32m      2\u001b[0m     ManagedOnlineEndpoint,\n\u001b[1;32m      3\u001b[0m     ManagedOnlineDeployment,\n\u001b[0;32m   (...)\u001b[0m\n\u001b[1;32m      7\u001b[0m     ProbeSettings,\n\u001b[1;32m      8\u001b[0m )\n\u001b[1;32m     10\u001b[0m model_name \u001b[38;5;241m=\u001b[39m \u001b[38;5;124m\"\u001b[39m\u001b[38;5;124mbest-brain-tumor-class\u001b[39m\u001b[38;5;124m\"\u001b[39m\n\u001b[1;32m     11\u001b[0m model \u001b[38;5;241m=\u001b[39m Model(\n\u001b[0;32m---> 12\u001b[0m     path\u001b[38;5;241m=\u001b[39m\u001b[38;5;124mf\u001b[39m\u001b[38;5;124m\"\u001b[39m\u001b[38;5;124mazureml://jobs/\u001b[39m\u001b[38;5;132;01m{\u001b[39;00mbest_run\u001b[38;5;241m.\u001b[39minfo\u001b[38;5;241m.\u001b[39mrun_id\u001b[38;5;132;01m}\u001b[39;00m\u001b[38;5;124m/outputs/artifacts/outputs/mlflow-model/\u001b[39m\u001b[38;5;124m\"\u001b[39m,\n\u001b[1;32m     13\u001b[0m     name\u001b[38;5;241m=\u001b[39mmodel_name,\n\u001b[1;32m     14\u001b[0m     description\u001b[38;5;241m=\u001b[39m\u001b[38;5;124m\"\u001b[39m\u001b[38;5;124mmy sample image classification multiclass model\u001b[39m\u001b[38;5;124m\"\u001b[39m,\n\u001b[1;32m     15\u001b[0m     \u001b[38;5;28mtype\u001b[39m\u001b[38;5;241m=\u001b[39mAssetTypes\u001b[38;5;241m.\u001b[39mMLFLOW_MODEL,\n\u001b[1;32m     16\u001b[0m )\n\u001b[1;32m     18\u001b[0m \u001b[38;5;66;03m# for downloaded file\u001b[39;00m\n\u001b[1;32m     19\u001b[0m \u001b[38;5;66;03m# model = Model(\u001b[39;00m\n\u001b[1;32m     20\u001b[0m \u001b[38;5;66;03m#     path=\"artifact_downloads/outputs/mlflow-model/\",\u001b[39;00m\n\u001b[0;32m   (...)\u001b[0m\n\u001b[1;32m     23\u001b[0m \u001b[38;5;66;03m#     type=AssetTypes.MLFLOW_MODEL,\u001b[39;00m\n\u001b[1;32m     24\u001b[0m \u001b[38;5;66;03m# )\u001b[39;00m\n\u001b[1;32m     26\u001b[0m registered_model \u001b[38;5;241m=\u001b[39m ml_client\u001b[38;5;241m.\u001b[39mmodels\u001b[38;5;241m.\u001b[39mcreate_or_update(model)\n",
            "\u001b[0;31mNameError\u001b[0m: name 'best_run' is not defined"
          ]
        }
      ],
      "execution_count": 22,
      "metadata": {
        "jupyter": {
          "source_hidden": false,
          "outputs_hidden": false
        },
        "nteract": {
          "transient": {
            "deleting": false
          }
        },
        "gather": {
          "logged": 1669491825572
        }
      }
    },
    {
      "cell_type": "code",
      "source": [
        "import datetime\r\n",
        "from azure.ai.ml.entities import (\r\n",
        "    ManagedOnlineEndpoint,\r\n",
        "    ManagedOnlineDeployment,\r\n",
        "    Model,\r\n",
        "    Environment,\r\n",
        "    CodeConfiguration,\r\n",
        "    ProbeSettings,\r\n",
        ")\r\n",
        "\r\n",
        "online_endpoint_name = \"tumor-endpoint-test\" + datetime.datetime.now().strftime(\r\n",
        "    \"%m%d%H%M\"\r\n",
        ")\r\n",
        "\r\n",
        "# create an online endpoint\r\n",
        "endpoint = ManagedOnlineEndpoint(\r\n",
        "    name=online_endpoint_name,\r\n",
        "    description=\"Test endpoint for web app\",\r\n",
        "    auth_mode=\"key\",\r\n",
        "    tags={\"foo\": \"bar\"},\r\n",
        ")"
      ],
      "outputs": [],
      "execution_count": 31,
      "metadata": {
        "jupyter": {
          "source_hidden": false,
          "outputs_hidden": false
        },
        "nteract": {
          "transient": {
            "deleting": false
          }
        },
        "gather": {
          "logged": 1669488363541
        }
      }
    },
    {
      "cell_type": "code",
      "source": [
        "ml_client.begin_create_or_update(endpoint).result()\r\n"
      ],
      "outputs": [
        {
          "output_type": "execute_result",
          "execution_count": 32,
          "data": {
            "text/plain": "ManagedOnlineEndpoint({'public_network_access': 'Enabled', 'provisioning_state': 'Succeeded', 'scoring_uri': 'https://tumor-endpoint-test11261846.westeurope.inference.ml.azure.com/score', 'openapi_uri': 'https://tumor-endpoint-test11261846.westeurope.inference.ml.azure.com/swagger.json', 'name': 'tumor-endpoint-test11261846', 'description': 'Test endpoint for web app', 'tags': {'foo': 'bar'}, 'properties': {'azureml.onlineendpointid': '/subscriptions/fcd507c3-2157-4d7e-8f34-7f992556b828/resourcegroups/tumor_detection_project/providers/microsoft.machinelearningservices/workspaces/tumor_detection/onlineendpoints/tumor-endpoint-test11261846', 'AzureAsyncOperationUri': 'https://management.azure.com/subscriptions/fcd507c3-2157-4d7e-8f34-7f992556b828/providers/Microsoft.MachineLearningServices/locations/westeurope/mfeOperationsStatus/oe:53b446ab-b72f-4d0b-a1ab-785ec801a871:7a34559b-3bfc-43d1-8b89-a3c922a67cf3?api-version=2022-02-01-preview'}, 'id': '/subscriptions/fcd507c3-2157-4d7e-8f34-7f992556b828/resourceGroups/tumor_detection_project/providers/Microsoft.MachineLearningServices/workspaces/tumor_detection/onlineEndpoints/tumor-endpoint-test11261846', 'Resource__source_path': None, 'base_path': '/mnt/batch/tasks/shared/LS_root/mounts/clusters/notebook-tumor-compute/code/Users/01159314', 'creation_context': None, 'serialize': <msrest.serialization.Serializer object at 0x7ff055b8cca0>, 'auth_mode': 'key', 'location': 'westeurope', 'identity': <azure.ai.ml.entities._credentials.IdentityConfiguration object at 0x7ff055b46fd0>, 'traffic': {}, 'mirror_traffic': {}, 'kind': 'Managed'})"
          },
          "metadata": {}
        }
      ],
      "execution_count": 32,
      "metadata": {
        "jupyter": {
          "source_hidden": false,
          "outputs_hidden": false
        },
        "nteract": {
          "transient": {
            "deleting": false
          }
        },
        "gather": {
          "logged": 1669488519965
        }
      }
    },
    {
      "cell_type": "code",
      "source": [
        "registered_model = ml_client.models.get(name=\"best-brain-tumor-classification\", version=\"1\")\r\n",
        "\r\n",
        "deployment = ManagedOnlineDeployment(\r\n",
        "    name=\"ic-mc-fridge-items-mlflow-deploy\",\r\n",
        "    endpoint_name=online_endpoint_name,\r\n",
        "    model=registered_model.id,\r\n",
        "    instance_type=\"Standard_E2s_v3\",\r\n",
        "    instance_count=1,\r\n",
        "    liveness_probe=ProbeSettings(\r\n",
        "        failure_threshold=30,\r\n",
        "        success_threshold=1,\r\n",
        "        timeout=2,\r\n",
        "        period=10,\r\n",
        "        initial_delay=2000,\r\n",
        "    ),\r\n",
        "    readiness_probe=ProbeSettings(\r\n",
        "        failure_threshold=10,\r\n",
        "        success_threshold=1,\r\n",
        "        timeout=10,\r\n",
        "        period=10,\r\n",
        "        initial_delay=2000,\r\n",
        "    ),\r\n",
        ")"
      ],
      "outputs": [],
      "execution_count": 33,
      "metadata": {
        "jupyter": {
          "source_hidden": false,
          "outputs_hidden": false
        },
        "nteract": {
          "transient": {
            "deleting": false
          }
        },
        "gather": {
          "logged": 1669488535767
        }
      }
    },
    {
      "cell_type": "code",
      "source": [
        "\r\n",
        "ml_client.online_deployments.begin_create_or_update(deployment).result()\r\n"
      ],
      "outputs": [
        {
          "output_type": "stream",
          "name": "stderr",
          "text": "Check: endpoint tumor-endpoint-test11261846 exists\ndata_collector is not a known attribute of class <class 'azure.ai.ml._restclient.v2022_02_01_preview.models._models_py3.ManagedOnlineDeployment'> and will be ignored\n"
        },
        {
          "output_type": "execute_result",
          "execution_count": 34,
          "data": {
            "text/plain": "ManagedOnlineDeployment({'private_network_connection': False, 'data_collector': None, 'provisioning_state': 'Succeeded', 'endpoint_name': 'tumor-endpoint-test11261846', 'type': 'Managed', 'name': 'ic-mc-fridge-items-mlflow-deploy', 'description': None, 'tags': {}, 'properties': {'AzureAsyncOperationUri': 'https://management.azure.com/subscriptions/fcd507c3-2157-4d7e-8f34-7f992556b828/providers/Microsoft.MachineLearningServices/locations/westeurope/mfeOperationsStatus/od:53b446ab-b72f-4d0b-a1ab-785ec801a871:5e88c624-7fb1-460f-901f-f9e0ac77529c?api-version=2022-02-01-preview'}, 'id': '/subscriptions/fcd507c3-2157-4d7e-8f34-7f992556b828/resourceGroups/tumor_detection_project/providers/Microsoft.MachineLearningServices/workspaces/tumor_detection/onlineEndpoints/tumor-endpoint-test11261846/deployments/ic-mc-fridge-items-mlflow-deploy', 'Resource__source_path': None, 'base_path': '/mnt/batch/tasks/shared/LS_root/mounts/clusters/notebook-tumor-compute/code/Users/01159314', 'creation_context': None, 'serialize': <msrest.serialization.Serializer object at 0x7ff055b71b20>, 'model': '/subscriptions/fcd507c3-2157-4d7e-8f34-7f992556b828/resourceGroups/tumor_detection_project/providers/Microsoft.MachineLearningServices/workspaces/tumor_detection/models/best-brain-tumor-classification/versions/1', 'code_configuration': None, 'environment': None, 'environment_variables': {}, 'app_insights_enabled': False, 'scale_settings': <azure.ai.ml.entities._deployment.scale_settings.DefaultScaleSettings object at 0x7ff055b6d940>, 'request_settings': <azure.ai.ml.entities._deployment.deployment_settings.OnlineRequestSettings object at 0x7ff055b6d6a0>, 'liveness_probe': <azure.ai.ml.entities._deployment.deployment_settings.ProbeSettings object at 0x7ff055b71a00>, 'readiness_probe': <azure.ai.ml.entities._deployment.deployment_settings.ProbeSettings object at 0x7ff055b717c0>, 'instance_count': 1, 'arm_type': 'online_deployment', 'model_mount_path': None, 'instance_type': 'Standard_E2s_v3', 'egress_public_network_access': 'Enabled'})"
          },
          "metadata": {}
        }
      ],
      "execution_count": 34,
      "metadata": {
        "jupyter": {
          "source_hidden": false,
          "outputs_hidden": false
        },
        "nteract": {
          "transient": {
            "deleting": false
          }
        },
        "gather": {
          "logged": 1669490989117
        }
      }
    },
    {
      "cell_type": "code",
      "source": [
        "endpoint.traffic = {\"ic-mc-fridge-items-mlflow-deploy\": 100}\r\n",
        "ml_client.begin_create_or_update(endpoint).result()"
      ],
      "outputs": [
        {
          "output_type": "execute_result",
          "execution_count": 35,
          "data": {
            "text/plain": "ManagedOnlineEndpoint({'public_network_access': 'Enabled', 'provisioning_state': 'Succeeded', 'scoring_uri': 'https://tumor-endpoint-test11261846.westeurope.inference.ml.azure.com/score', 'openapi_uri': 'https://tumor-endpoint-test11261846.westeurope.inference.ml.azure.com/swagger.json', 'name': 'tumor-endpoint-test11261846', 'description': 'Test endpoint for web app', 'tags': {'foo': 'bar'}, 'properties': {'azureml.onlineendpointid': '/subscriptions/fcd507c3-2157-4d7e-8f34-7f992556b828/resourcegroups/tumor_detection_project/providers/microsoft.machinelearningservices/workspaces/tumor_detection/onlineendpoints/tumor-endpoint-test11261846', 'AzureAsyncOperationUri': 'https://management.azure.com/subscriptions/fcd507c3-2157-4d7e-8f34-7f992556b828/providers/Microsoft.MachineLearningServices/locations/westeurope/mfeOperationsStatus/oe:53b446ab-b72f-4d0b-a1ab-785ec801a871:9f905bd4-d192-4726-95b0-36adb3fc9041?api-version=2022-02-01-preview'}, 'id': '/subscriptions/fcd507c3-2157-4d7e-8f34-7f992556b828/resourceGroups/tumor_detection_project/providers/Microsoft.MachineLearningServices/workspaces/tumor_detection/onlineEndpoints/tumor-endpoint-test11261846', 'Resource__source_path': None, 'base_path': '/mnt/batch/tasks/shared/LS_root/mounts/clusters/notebook-tumor-compute/code/Users/01159314', 'creation_context': None, 'serialize': <msrest.serialization.Serializer object at 0x7ff055e21430>, 'auth_mode': 'key', 'location': 'westeurope', 'identity': <azure.ai.ml.entities._credentials.IdentityConfiguration object at 0x7ff055b46a30>, 'traffic': {'ic-mc-fridge-items-mlflow-deploy': 100}, 'mirror_traffic': {}, 'kind': 'Managed'})"
          },
          "metadata": {}
        }
      ],
      "execution_count": 35,
      "metadata": {
        "jupyter": {
          "source_hidden": false,
          "outputs_hidden": false
        },
        "nteract": {
          "transient": {
            "deleting": false
          }
        },
        "gather": {
          "logged": 1669491208231
        }
      }
    },
    {
      "cell_type": "code",
      "source": [
        "endpoint = ml_client.online_endpoints.get(name=online_endpoint_name)\r\n",
        "\r\n",
        "# existing traffic details\r\n",
        "print(endpoint.traffic)\r\n",
        "\r\n",
        "# Get the scoring URI\r\n",
        "print(endpoint.scoring_uri)"
      ],
      "outputs": [
        {
          "output_type": "stream",
          "name": "stdout",
          "text": "{'ic-mc-fridge-items-mlflow-deploy': 100}\nhttps://tumor-endpoint-test11261846.westeurope.inference.ml.azure.com/score\n"
        }
      ],
      "execution_count": 36,
      "metadata": {
        "jupyter": {
          "source_hidden": false,
          "outputs_hidden": false
        },
        "nteract": {
          "transient": {
            "deleting": false
          }
        },
        "gather": {
          "logged": 1669491216929
        }
      }
    },
    {
      "cell_type": "code",
      "source": [
        "import base64\r\n",
        "\r\n",
        "sample_image = \"./data/brainMRI/yes/Y1.jpg\"\r\n",
        "\r\n",
        "\r\n",
        "def read_image(image_path):\r\n",
        "    with open(image_path, \"rb\") as f:\r\n",
        "        return f.read()\r\n",
        "\r\n",
        "\r\n",
        "request_json = {\r\n",
        "    \"input_data\": {\r\n",
        "        \"columns\": [\"image\"],\r\n",
        "        \"data\": [base64.encodebytes(read_image(sample_image)).decode(\"utf-8\")],\r\n",
        "    }\r\n",
        "}"
      ],
      "outputs": [],
      "execution_count": 38,
      "metadata": {
        "jupyter": {
          "source_hidden": false,
          "outputs_hidden": false
        },
        "nteract": {
          "transient": {
            "deleting": false
          }
        },
        "gather": {
          "logged": 1669491314749
        }
      }
    },
    {
      "cell_type": "code",
      "source": [
        "import json\r\n",
        "\r\n",
        "request_file_name = \"sample_request_data.json\"\r\n",
        "\r\n",
        "with open(request_file_name, \"w\") as request_file:\r\n",
        "    json.dump(request_json, request_file)"
      ],
      "outputs": [],
      "execution_count": 39,
      "metadata": {
        "jupyter": {
          "source_hidden": false,
          "outputs_hidden": false
        },
        "nteract": {
          "transient": {
            "deleting": false
          }
        },
        "gather": {
          "logged": 1669491319968
        }
      }
    },
    {
      "cell_type": "code",
      "source": [
        "resp = ml_client.online_endpoints.invoke(\r\n",
        "    endpoint_name=online_endpoint_name,\r\n",
        "    deployment_name=deployment.name,\r\n",
        "    request_file=request_file_name,\r\n",
        ")"
      ],
      "outputs": [],
      "execution_count": 40,
      "metadata": {
        "jupyter": {
          "source_hidden": false,
          "outputs_hidden": false
        },
        "nteract": {
          "transient": {
            "deleting": false
          }
        },
        "gather": {
          "logged": 1669491338951
        }
      }
    },
    {
      "cell_type": "code",
      "source": [
        "%matplotlib inline\r\n",
        "import matplotlib.pyplot as plt\r\n",
        "import matplotlib.image as mpimg\r\n",
        "from PIL import Image\r\n",
        "import numpy as np\r\n",
        "import json\r\n",
        "\r\n",
        "IMAGE_SIZE = (18, 12)\r\n",
        "plt.figure(figsize=IMAGE_SIZE)\r\n",
        "img_np = mpimg.imread(sample_image)\r\n",
        "img = Image.fromarray(img_np.astype(\"uint8\"), \"RGB\")\r\n",
        "x, y = img.size\r\n",
        "\r\n",
        "fig, ax = plt.subplots(1, figsize=(15, 15))\r\n",
        "# Display the image\r\n",
        "ax.imshow(img_np)\r\n",
        "\r\n",
        "prediction = json.loads(resp)[0]\r\n",
        "label_index = np.argmax(prediction[\"probs\"])\r\n",
        "label = prediction[\"labels\"][label_index]\r\n",
        "conf_score = prediction[\"probs\"][label_index]\r\n",
        "\r\n",
        "display_text = \"{} ({})\".format(label, round(conf_score, 3))\r\n",
        "print(display_text)\r\n",
        "\r\n",
        "color = \"red\"\r\n",
        "plt.text(30, 30, display_text, color=color, fontsize=30)\r\n",
        "\r\n",
        "plt.show()"
      ],
      "outputs": [
        {
          "output_type": "stream",
          "name": "stdout",
          "text": "yes (0.989)\n"
        },
        {
          "output_type": "display_data",
          "data": {
            "text/plain": "<Figure size 1296x864 with 0 Axes>"
          },
          "metadata": {}
        },
        {
          "output_type": "display_data",
          "data": {
            "text/plain": "<Figure size 1080x1080 with 1 Axes>",
            "image/png": "[encoded data removed]"
          },
          "metadata": {
            "needs_background": "light"
          }
        }
      ],
      "execution_count": 41,
      "metadata": {
        "jupyter": {
          "source_hidden": false,
          "outputs_hidden": false
        },
        "nteract": {
          "transient": {
            "deleting": false
          }
        },
        "gather": {
          "logged": 1669491431179
        }
      }
    },
    {
      "cell_type": "code",
      "source": [
        "ml_client.online_endpoints.begin_delete(name=online_endpoint_name)\r\n"
      ],
      "outputs": [
        {
          "output_type": "execute_result",
          "execution_count": 42,
          "data": {
            "text/plain": "<azure.core.polling._poller.LROPoller at 0x7ff055e28ee0>"
          },
          "metadata": {}
        },
        {
          "output_type": "stream",
          "name": "stdout",
          "text": "..........................................."
        }
      ],
      "execution_count": 42,
      "metadata": {
        "jupyter": {
          "source_hidden": false,
          "outputs_hidden": false
        },
        "nteract": {
          "transient": {
            "deleting": false
          }
        },
        "gather": {
          "logged": 1669491586696
        }
      }
    }
  ],
  "metadata": {
    "kernelspec": {
      "name": "python38-azureml",
      "language": "python",
      "display_name": "Python 3.8 - AzureML"
    },
    "language_info": {
      "name": "python",
      "version": "3.8.5",
      "mimetype": "text/x-python",
      "codemirror_mode": {
        "name": "ipython",
        "version": 3
      },
      "pygments_lexer": "ipython3",
      "nbconvert_exporter": "python",
      "file_extension": ".py"
    },
    "kernel_info": {
      "name": "python38-azureml"
    },
    "microsoft": {
      "host": {
        "AzureML": {
          "notebookHasBeenCompleted": true
        }
      }
    },
    "nteract": {
      "version": "nteract-front-end@1.0.0"
    }
  },
  "nbformat": 4,
  "nbformat_minor": 2
}